{
 "cells": [
  {
   "cell_type": "code",
   "execution_count": 2,
   "metadata": {},
   "outputs": [],
   "source": [
    "import pandas as pd\n",
    "import json\n",
    "import requests\n",
    "from FlightRadar24 import FlightRadar24API\n",
    "from aux import Flight"
   ]
  },
  {
   "cell_type": "code",
   "execution_count": 7,
   "metadata": {},
   "outputs": [],
   "source": [
    "access_key = \"ec56dc99dafcc4fc9ba0b44c98f65b43\"\n",
    "limit = 500 # Number of rows from query\n",
    "flight_status = \"active\"  # squeduled, active, landed, cancelled, incident, diverted\n",
    "\n",
    "url = f\"http://api.aviationstack.com/v1/flights\"  # Real-time flights endpoint\n",
    "params = {\"access_key\": access_key, \"flight_status\": flight_status}\n",
    "response = requests.get(url, params=params)\n",
    "response_json = response.json()\n",
    "\n",
    "# json_data = response_json[\"data\"]\n",
    "with open('test.json', 'w') as file:\n",
    "  json.dump(response_json, file)\n"
   ]
  },
  {
   "cell_type": "code",
   "execution_count": 22,
   "metadata": {},
   "outputs": [],
   "source": [
    "json_data[0]\n",
    "f = Flight(json_data[0])"
   ]
  }
 ],
 "metadata": {
  "kernelspec": {
   "display_name": ".venv",
   "language": "python",
   "name": "python3"
  },
  "language_info": {
   "codemirror_mode": {
    "name": "ipython",
    "version": 3
   },
   "file_extension": ".py",
   "mimetype": "text/x-python",
   "name": "python",
   "nbconvert_exporter": "python",
   "pygments_lexer": "ipython3",
   "version": "3.11.6"
  }
 },
 "nbformat": 4,
 "nbformat_minor": 2
}
